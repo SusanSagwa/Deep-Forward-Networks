{
  "nbformat": 4,
  "nbformat_minor": 0,
  "metadata": {
    "colab": {
      "name": "Deep Feed Forward Networks.ipynb",
      "provenance": [],
      "collapsed_sections": [],
      "authorship_tag": "ABX9TyN5iVrHHwz4Dnby2sfzkZtB",
      "include_colab_link": true
    },
    "kernelspec": {
      "name": "python3",
      "display_name": "Python 3"
    },
    "language_info": {
      "name": "python"
    }
  },
  "cells": [
    {
      "cell_type": "markdown",
      "metadata": {
        "id": "view-in-github",
        "colab_type": "text"
      },
      "source": [
        "<a href=\"https://colab.research.google.com/github/SusanSagwa/Deep-Forward-Networks/blob/main/Deep_Feed_Forward_Networks.ipynb\" target=\"_parent\"><img src=\"https://colab.research.google.com/assets/colab-badge.svg\" alt=\"Open In Colab\"/></a>"
      ]
    },
    {
      "cell_type": "code",
      "execution_count": null,
      "metadata": {
        "id": "FA-WyMBml1EK"
      },
      "outputs": [],
      "source": [
        "import tensorflow as tf\n",
        "from tensorflow import keras\n",
        "\n",
        "from sklearn.model_selection import train_test_split"
      ]
    },
    {
      "cell_type": "code",
      "source": [
        "# import NN layers and other componenets.\n",
        "from tensorflow.keras.models import Sequential\n",
        "from tensorflow.keras.layers import Activation, Dense, BatchNormalization, Dropout\n",
        "from tensorflow.keras import optimizers"
      ],
      "metadata": {
        "id": "-c4T1mzKsQPA"
      },
      "execution_count": null,
      "outputs": []
    },
    {
      "cell_type": "code",
      "source": [
        "# Tensorflow untils packages.\n",
        "#import tensorflow_docs as tfdocs\n",
        "#import tensorflow_docs.plots\n",
        "#import tensorflow_docs.modeling"
      ],
      "metadata": {
        "id": "QRCY1xA5tArU"
      },
      "execution_count": null,
      "outputs": []
    },
    {
      "cell_type": "code",
      "source": [
        "import pathlib # for processing a path e.g., c:\\documents\\files\\test_ds.csv\n",
        "import matplotlib.pyplot as plt # for plotting data and creating different charts.\n",
        "import numpy as np # for math and arrays\n",
        "import pandas as pd # data from for the data.\n",
        "import seaborn as sns # for plotting."
      ],
      "metadata": {
        "id": "IW3T9JLc0Jlb"
      },
      "execution_count": null,
      "outputs": []
    },
    {
      "cell_type": "code",
      "source": [
        "tf.random.set_seed(13) # to make sure the experiment is reproducible.\n",
        "tf.debugging.set_log_device_placement(False)"
      ],
      "metadata": {
        "id": "ahvF09zj9uTI"
      },
      "execution_count": null,
      "outputs": []
    },
    {
      "cell_type": "code",
      "source": [
        "all_ds = pd.read_csv('Nairobi Office Price Ex.csv')"
      ],
      "metadata": {
        "id": "MemOo8At91md"
      },
      "execution_count": null,
      "outputs": []
    },
    {
      "cell_type": "code",
      "source": [
        "all_dis = all_ds.iloc[0:13, 8:10]\n",
        "all_dis"
      ],
      "metadata": {
        "colab": {
          "base_uri": "https://localhost:8080/",
          "height": 457
        },
        "id": "e0M6o346-UWQ",
        "outputId": "e6dd4961-6d93-47ba-d58d-d9983d9a6295"
      },
      "execution_count": null,
      "outputs": [
        {
          "output_type": "execute_result",
          "data": {
            "text/plain": [
              "         SIZE      PRICE\n",
              "0   32.502345  31.707006\n",
              "1   53.426804  68.777596\n",
              "2   61.530358  62.562382\n",
              "3   47.475640  71.546632\n",
              "4   59.813208  87.230925\n",
              "5   55.142188  78.211518\n",
              "6   52.211797  79.641973\n",
              "7   39.299567  59.171489\n",
              "8   48.105042  75.331242\n",
              "9   52.550014  71.300880\n",
              "10  45.419730  55.165677\n",
              "11  54.351635  82.478847\n",
              "12  44.164049  62.008923"
            ],
            "text/html": [
              "\n",
              "  <div id=\"df-a8a93cc9-abfe-4697-a96b-3a1d32bb0437\">\n",
              "    <div class=\"colab-df-container\">\n",
              "      <div>\n",
              "<style scoped>\n",
              "    .dataframe tbody tr th:only-of-type {\n",
              "        vertical-align: middle;\n",
              "    }\n",
              "\n",
              "    .dataframe tbody tr th {\n",
              "        vertical-align: top;\n",
              "    }\n",
              "\n",
              "    .dataframe thead th {\n",
              "        text-align: right;\n",
              "    }\n",
              "</style>\n",
              "<table border=\"1\" class=\"dataframe\">\n",
              "  <thead>\n",
              "    <tr style=\"text-align: right;\">\n",
              "      <th></th>\n",
              "      <th>SIZE</th>\n",
              "      <th>PRICE</th>\n",
              "    </tr>\n",
              "  </thead>\n",
              "  <tbody>\n",
              "    <tr>\n",
              "      <th>0</th>\n",
              "      <td>32.502345</td>\n",
              "      <td>31.707006</td>\n",
              "    </tr>\n",
              "    <tr>\n",
              "      <th>1</th>\n",
              "      <td>53.426804</td>\n",
              "      <td>68.777596</td>\n",
              "    </tr>\n",
              "    <tr>\n",
              "      <th>2</th>\n",
              "      <td>61.530358</td>\n",
              "      <td>62.562382</td>\n",
              "    </tr>\n",
              "    <tr>\n",
              "      <th>3</th>\n",
              "      <td>47.475640</td>\n",
              "      <td>71.546632</td>\n",
              "    </tr>\n",
              "    <tr>\n",
              "      <th>4</th>\n",
              "      <td>59.813208</td>\n",
              "      <td>87.230925</td>\n",
              "    </tr>\n",
              "    <tr>\n",
              "      <th>5</th>\n",
              "      <td>55.142188</td>\n",
              "      <td>78.211518</td>\n",
              "    </tr>\n",
              "    <tr>\n",
              "      <th>6</th>\n",
              "      <td>52.211797</td>\n",
              "      <td>79.641973</td>\n",
              "    </tr>\n",
              "    <tr>\n",
              "      <th>7</th>\n",
              "      <td>39.299567</td>\n",
              "      <td>59.171489</td>\n",
              "    </tr>\n",
              "    <tr>\n",
              "      <th>8</th>\n",
              "      <td>48.105042</td>\n",
              "      <td>75.331242</td>\n",
              "    </tr>\n",
              "    <tr>\n",
              "      <th>9</th>\n",
              "      <td>52.550014</td>\n",
              "      <td>71.300880</td>\n",
              "    </tr>\n",
              "    <tr>\n",
              "      <th>10</th>\n",
              "      <td>45.419730</td>\n",
              "      <td>55.165677</td>\n",
              "    </tr>\n",
              "    <tr>\n",
              "      <th>11</th>\n",
              "      <td>54.351635</td>\n",
              "      <td>82.478847</td>\n",
              "    </tr>\n",
              "    <tr>\n",
              "      <th>12</th>\n",
              "      <td>44.164049</td>\n",
              "      <td>62.008923</td>\n",
              "    </tr>\n",
              "  </tbody>\n",
              "</table>\n",
              "</div>\n",
              "      <button class=\"colab-df-convert\" onclick=\"convertToInteractive('df-a8a93cc9-abfe-4697-a96b-3a1d32bb0437')\"\n",
              "              title=\"Convert this dataframe to an interactive table.\"\n",
              "              style=\"display:none;\">\n",
              "        \n",
              "  <svg xmlns=\"http://www.w3.org/2000/svg\" height=\"24px\"viewBox=\"0 0 24 24\"\n",
              "       width=\"24px\">\n",
              "    <path d=\"M0 0h24v24H0V0z\" fill=\"none\"/>\n",
              "    <path d=\"M18.56 5.44l.94 2.06.94-2.06 2.06-.94-2.06-.94-.94-2.06-.94 2.06-2.06.94zm-11 1L8.5 8.5l.94-2.06 2.06-.94-2.06-.94L8.5 2.5l-.94 2.06-2.06.94zm10 10l.94 2.06.94-2.06 2.06-.94-2.06-.94-.94-2.06-.94 2.06-2.06.94z\"/><path d=\"M17.41 7.96l-1.37-1.37c-.4-.4-.92-.59-1.43-.59-.52 0-1.04.2-1.43.59L10.3 9.45l-7.72 7.72c-.78.78-.78 2.05 0 2.83L4 21.41c.39.39.9.59 1.41.59.51 0 1.02-.2 1.41-.59l7.78-7.78 2.81-2.81c.8-.78.8-2.07 0-2.86zM5.41 20L4 18.59l7.72-7.72 1.47 1.35L5.41 20z\"/>\n",
              "  </svg>\n",
              "      </button>\n",
              "      \n",
              "  <style>\n",
              "    .colab-df-container {\n",
              "      display:flex;\n",
              "      flex-wrap:wrap;\n",
              "      gap: 12px;\n",
              "    }\n",
              "\n",
              "    .colab-df-convert {\n",
              "      background-color: #E8F0FE;\n",
              "      border: none;\n",
              "      border-radius: 50%;\n",
              "      cursor: pointer;\n",
              "      display: none;\n",
              "      fill: #1967D2;\n",
              "      height: 32px;\n",
              "      padding: 0 0 0 0;\n",
              "      width: 32px;\n",
              "    }\n",
              "\n",
              "    .colab-df-convert:hover {\n",
              "      background-color: #E2EBFA;\n",
              "      box-shadow: 0px 1px 2px rgba(60, 64, 67, 0.3), 0px 1px 3px 1px rgba(60, 64, 67, 0.15);\n",
              "      fill: #174EA6;\n",
              "    }\n",
              "\n",
              "    [theme=dark] .colab-df-convert {\n",
              "      background-color: #3B4455;\n",
              "      fill: #D2E3FC;\n",
              "    }\n",
              "\n",
              "    [theme=dark] .colab-df-convert:hover {\n",
              "      background-color: #434B5C;\n",
              "      box-shadow: 0px 1px 3px 1px rgba(0, 0, 0, 0.15);\n",
              "      filter: drop-shadow(0px 1px 2px rgba(0, 0, 0, 0.3));\n",
              "      fill: #FFFFFF;\n",
              "    }\n",
              "  </style>\n",
              "\n",
              "      <script>\n",
              "        const buttonEl =\n",
              "          document.querySelector('#df-a8a93cc9-abfe-4697-a96b-3a1d32bb0437 button.colab-df-convert');\n",
              "        buttonEl.style.display =\n",
              "          google.colab.kernel.accessAllowed ? 'block' : 'none';\n",
              "\n",
              "        async function convertToInteractive(key) {\n",
              "          const element = document.querySelector('#df-a8a93cc9-abfe-4697-a96b-3a1d32bb0437');\n",
              "          const dataTable =\n",
              "            await google.colab.kernel.invokeFunction('convertToInteractive',\n",
              "                                                     [key], {});\n",
              "          if (!dataTable) return;\n",
              "\n",
              "          const docLinkHtml = 'Like what you see? Visit the ' +\n",
              "            '<a target=\"_blank\" href=https://colab.research.google.com/notebooks/data_table.ipynb>data table notebook</a>'\n",
              "            + ' to learn more about interactive tables.';\n",
              "          element.innerHTML = '';\n",
              "          dataTable['output_type'] = 'display_data';\n",
              "          await google.colab.output.renderOutput(dataTable, element);\n",
              "          const docLink = document.createElement('div');\n",
              "          docLink.innerHTML = docLinkHtml;\n",
              "          element.appendChild(docLink);\n",
              "        }\n",
              "      </script>\n",
              "    </div>\n",
              "  </div>\n",
              "  "
            ]
          },
          "metadata": {},
          "execution_count": 14
        }
      ]
    },
    {
      "cell_type": "code",
      "source": [
        "print(f'Number of rows/examples and columns in the dataset: {all_dis.shape}')"
      ],
      "metadata": {
        "colab": {
          "base_uri": "https://localhost:8080/"
        },
        "id": "o9af_T8q-YhH",
        "outputId": "dd4269eb-6676-49b9-e3de-c130d022f967"
      },
      "execution_count": null,
      "outputs": [
        {
          "output_type": "stream",
          "name": "stdout",
          "text": [
            "Number of rows/examples and columns in the dataset: (13, 2)\n"
          ]
        }
      ]
    },
    {
      "cell_type": "code",
      "source": [
        "# Summary of information on the dataset.\n",
        "all_dis.info()"
      ],
      "metadata": {
        "colab": {
          "base_uri": "https://localhost:8080/"
        },
        "id": "bowgltwX-5xG",
        "outputId": "1f8b2b25-a551-44a8-f33f-217cfbee694e"
      },
      "execution_count": null,
      "outputs": [
        {
          "output_type": "stream",
          "name": "stdout",
          "text": [
            "<class 'pandas.core.frame.DataFrame'>\n",
            "RangeIndex: 13 entries, 0 to 12\n",
            "Data columns (total 2 columns):\n",
            " #   Column  Non-Null Count  Dtype  \n",
            "---  ------  --------------  -----  \n",
            " 0   SIZE    13 non-null     float64\n",
            " 1   PRICE   13 non-null     float64\n",
            "dtypes: float64(2)\n",
            "memory usage: 336.0 bytes\n"
          ]
        }
      ]
    },
    {
      "cell_type": "markdown",
      "source": [
        "**Cleaning the Data**"
      ],
      "metadata": {
        "id": "IzMLRYYt_Fhz"
      }
    },
    {
      "cell_type": "code",
      "source": [
        "print(\"Display NA values in each columns: \")\n",
        "all_dis.isna().sum(axis=0)"
      ],
      "metadata": {
        "colab": {
          "base_uri": "https://localhost:8080/"
        },
        "id": "6V7egVie_BDp",
        "outputId": "bb52139e-cc25-4930-be31-181d82e37f48"
      },
      "execution_count": null,
      "outputs": [
        {
          "output_type": "stream",
          "name": "stdout",
          "text": [
            "Display NA values in each columns: \n"
          ]
        },
        {
          "output_type": "execute_result",
          "data": {
            "text/plain": [
              "SIZE     0\n",
              "PRICE    0\n",
              "dtype: int64"
            ]
          },
          "metadata": {},
          "execution_count": 17
        }
      ]
    },
    {
      "cell_type": "code",
      "source": [
        "print(\"Display NA values in each row: \")\n",
        "all_dis.isna().sum(axis=1)"
      ],
      "metadata": {
        "colab": {
          "base_uri": "https://localhost:8080/"
        },
        "id": "0goOwedq_mDv",
        "outputId": "35a6132c-b455-4925-bbf9-50b2ad6ddaf5"
      },
      "execution_count": null,
      "outputs": [
        {
          "output_type": "stream",
          "name": "stdout",
          "text": [
            "Display NA values in each row: \n"
          ]
        },
        {
          "output_type": "execute_result",
          "data": {
            "text/plain": [
              "0     0\n",
              "1     0\n",
              "2     0\n",
              "3     0\n",
              "4     0\n",
              "5     0\n",
              "6     0\n",
              "7     0\n",
              "8     0\n",
              "9     0\n",
              "10    0\n",
              "11    0\n",
              "12    0\n",
              "dtype: int64"
            ]
          },
          "metadata": {},
          "execution_count": 18
        }
      ]
    },
    {
      "cell_type": "code",
      "source": [
        "print(\"Display NULL values in each columns: \")\n",
        "all_dis.isnull().sum()"
      ],
      "metadata": {
        "colab": {
          "base_uri": "https://localhost:8080/"
        },
        "id": "U_J9MDWE_w4g",
        "outputId": "8360f39d-1da7-4965-db8a-583408ae984f"
      },
      "execution_count": null,
      "outputs": [
        {
          "output_type": "stream",
          "name": "stdout",
          "text": [
            "Display NULL values in each columns: \n"
          ]
        },
        {
          "output_type": "execute_result",
          "data": {
            "text/plain": [
              "SIZE     0\n",
              "PRICE    0\n",
              "dtype: int64"
            ]
          },
          "metadata": {},
          "execution_count": 19
        }
      ]
    },
    {
      "cell_type": "code",
      "source": [
        "print(\"Display NULL values in each row: \")\n",
        "all_dis.isnull().sum(1)"
      ],
      "metadata": {
        "colab": {
          "base_uri": "https://localhost:8080/"
        },
        "id": "rrBe-x7o_2OU",
        "outputId": "9a09722f-05ae-4a73-97e2-227963eb87d0"
      },
      "execution_count": null,
      "outputs": [
        {
          "output_type": "stream",
          "name": "stdout",
          "text": [
            "Display NULL values in each row: \n"
          ]
        },
        {
          "output_type": "execute_result",
          "data": {
            "text/plain": [
              "0     0\n",
              "1     0\n",
              "2     0\n",
              "3     0\n",
              "4     0\n",
              "5     0\n",
              "6     0\n",
              "7     0\n",
              "8     0\n",
              "9     0\n",
              "10    0\n",
              "11    0\n",
              "12    0\n",
              "dtype: int64"
            ]
          },
          "metadata": {},
          "execution_count": 20
        }
      ]
    },
    {
      "cell_type": "code",
      "source": [
        "# Remove the rows with NA values.\n",
        "all_dis = all_dis.dropna()"
      ],
      "metadata": {
        "id": "Wr25KDVdALTf"
      },
      "execution_count": null,
      "outputs": []
    },
    {
      "cell_type": "code",
      "source": [
        "# slice the data set and keep last n rows of the dataset.  E.g., you want to save the last 5 rows from the dataset into a new dataset.\n",
        "n = 5\n",
        "temp_ds = all_dis[:n]\n",
        "temp_ds.shape"
      ],
      "metadata": {
        "colab": {
          "base_uri": "https://localhost:8080/"
        },
        "id": "E0yhyGwdEjoY",
        "outputId": "5ca473d8-3d50-47f9-e323-65135474075d"
      },
      "execution_count": null,
      "outputs": [
        {
          "output_type": "execute_result",
          "data": {
            "text/plain": [
              "(5, 2)"
            ]
          },
          "metadata": {},
          "execution_count": 22
        }
      ]
    },
    {
      "cell_type": "markdown",
      "source": [
        "**Sample the dataset randomly and return fraction (e.g., frac=50% will return 50% of the data) from the dataset.**"
      ],
      "metadata": {
        "id": "keLwKtUME_t6"
      }
    },
    {
      "cell_type": "code",
      "source": [
        "all_dis = all_dis.sample(frac=1) # This will randomly shuffle the rows to make sure the data is not sorted. (if the data is sorted then we may end up with test dataset from one or two classes only)\n",
        "all_dis_90pct = all_dis.sample(frac=0.9) # randomly sample the dataset and keep 90% of the rows.\n",
        "all_dis_90pct.shape"
      ],
      "metadata": {
        "colab": {
          "base_uri": "https://localhost:8080/"
        },
        "id": "_DmNdLoVE4CZ",
        "outputId": "40e1c755-f3ca-410e-d8a1-dadf352aea76"
      },
      "execution_count": null,
      "outputs": [
        {
          "output_type": "execute_result",
          "data": {
            "text/plain": [
              "(12, 2)"
            ]
          },
          "metadata": {},
          "execution_count": 23
        }
      ]
    },
    {
      "cell_type": "markdown",
      "source": [
        "**Split the data into train/test splits.**"
      ],
      "metadata": {
        "id": "4Lq2o_JkFaB2"
      }
    },
    {
      "cell_type": "code",
      "source": [
        "# Split the data into 60% train and 40% test (later will divide the test to test and validate.)\n",
        "train_dataset, temp_test_dataset =  train_test_split(all_dis_90pct, test_size=0.4)\n",
        "\n",
        "print( train_dataset.shape )\n",
        "print( temp_test_dataset.shape )"
      ],
      "metadata": {
        "colab": {
          "base_uri": "https://localhost:8080/"
        },
        "id": "DVgQalobFWDc",
        "outputId": "0ce46ceb-0f2e-4c39-ae20-4148379a1d37"
      },
      "execution_count": null,
      "outputs": [
        {
          "output_type": "stream",
          "name": "stdout",
          "text": [
            "(7, 2)\n",
            "(5, 2)\n"
          ]
        }
      ]
    },
    {
      "cell_type": "code",
      "source": [
        "# Split the test_dataset dataframe to 50% test and 50% validation. [this will divide the dataset into 60% train, 20% validate, and 20% test]\n",
        "test_dataset, valid_dataset =  train_test_split(temp_test_dataset, test_size=0.5)\n",
        "print( test_dataset.shape )\n",
        "print( valid_dataset.shape )"
      ],
      "metadata": {
        "colab": {
          "base_uri": "https://localhost:8080/"
        },
        "id": "p_Pj26xWGUH_",
        "outputId": "ee1fc821-6c86-4f27-aa49-715e38b62aa4"
      },
      "execution_count": null,
      "outputs": [
        {
          "output_type": "stream",
          "name": "stdout",
          "text": [
            "(2, 2)\n",
            "(3, 2)\n"
          ]
        }
      ]
    },
    {
      "cell_type": "code",
      "source": [
        "print(f\"Display the datatype of the test_dataset: {type(test_dataset)}\")\n",
        "print(f\" Train dataset       : {train_dataset.shape}\")\n",
        "print(f\" Test dataset       : {test_dataset.shape}\")\n",
        "print(f\" Validation dataset : {valid_dataset.shape}\")"
      ],
      "metadata": {
        "colab": {
          "base_uri": "https://localhost:8080/"
        },
        "id": "ytyxcBlaGdkl",
        "outputId": "11236f58-bbcd-46d7-8288-fb263e760ec2"
      },
      "execution_count": null,
      "outputs": [
        {
          "output_type": "stream",
          "name": "stdout",
          "text": [
            "Display the datatype of the test_dataset: <class 'pandas.core.frame.DataFrame'>\n",
            " Train dataset       : (7, 2)\n",
            " Test dataset       : (2, 2)\n",
            " Validation dataset : (3, 2)\n"
          ]
        }
      ]
    },
    {
      "cell_type": "code",
      "source": [
        "# Plot the relationship between each two variables to spot anything incorrect.\n",
        "train_stats = train_dataset.describe()\n",
        "train_stats.pop('PRICE')\n",
        "sns.pairplot(train_stats[train_stats.columns], diag_kind=\"kde\") # or diag_kind='reg'"
      ],
      "metadata": {
        "colab": {
          "base_uri": "https://localhost:8080/",
          "height": 214
        },
        "id": "BTjV-hqRH2EK",
        "outputId": "0eba17e2-4218-47f7-a7bf-289cde2b9658"
      },
      "execution_count": null,
      "outputs": [
        {
          "output_type": "execute_result",
          "data": {
            "text/plain": [
              "<seaborn.axisgrid.PairGrid at 0x7f399888ba10>"
            ]
          },
          "metadata": {},
          "execution_count": 27
        },
        {
          "output_type": "display_data",
          "data": {
            "text/plain": [
              "<Figure size 180x180 with 2 Axes>"
            ],
            "image/png": "[encoded data removed]"
          },
          "metadata": {
            "needs_background": "light"
          }
        }
      ]
    },
    {
      "cell_type": "code",
      "source": [
        "# Statistics on the train dataset to make sure it is in a good shape. (you may display the same stat for test and validate)\n",
        "train_stats = train_dataset.describe()\n",
        "train_stats.pop('PRICE')\n",
        "train_stats = train_stats.transpose()\n",
        "train_stats"
      ],
      "metadata": {
        "colab": {
          "base_uri": "https://localhost:8080/",
          "height": 81
        },
        "id": "vbgQF7OTLFeC",
        "outputId": "ab44d95b-7355-4869-db3a-c994f0d190bd"
      },
      "execution_count": null,
      "outputs": [
        {
          "output_type": "execute_result",
          "data": {
            "text/plain": [
              "      count      mean       std        min       25%        50%      75%  \\\n",
              "SIZE    7.0  48.25274  5.698451  39.299567  44.79189  48.105042  52.8193   \n",
              "\n",
              "            max  \n",
              "SIZE  55.142188  "
            ],
            "text/html": [
              "\n",
              "  <div id=\"df-dd6dbd44-bba4-44ae-b37e-61547b260e9b\">\n",
              "    <div class=\"colab-df-container\">\n",
              "      <div>\n",
              "<style scoped>\n",
              "    .dataframe tbody tr th:only-of-type {\n",
              "        vertical-align: middle;\n",
              "    }\n",
              "\n",
              "    .dataframe tbody tr th {\n",
              "        vertical-align: top;\n",
              "    }\n",
              "\n",
              "    .dataframe thead th {\n",
              "        text-align: right;\n",
              "    }\n",
              "</style>\n",
              "<table border=\"1\" class=\"dataframe\">\n",
              "  <thead>\n",
              "    <tr style=\"text-align: right;\">\n",
              "      <th></th>\n",
              "      <th>count</th>\n",
              "      <th>mean</th>\n",
              "      <th>std</th>\n",
              "      <th>min</th>\n",
              "      <th>25%</th>\n",
              "      <th>50%</th>\n",
              "      <th>75%</th>\n",
              "      <th>max</th>\n",
              "    </tr>\n",
              "  </thead>\n",
              "  <tbody>\n",
              "    <tr>\n",
              "      <th>SIZE</th>\n",
              "      <td>7.0</td>\n",
              "      <td>48.25274</td>\n",
              "      <td>5.698451</td>\n",
              "      <td>39.299567</td>\n",
              "      <td>44.79189</td>\n",
              "      <td>48.105042</td>\n",
              "      <td>52.8193</td>\n",
              "      <td>55.142188</td>\n",
              "    </tr>\n",
              "  </tbody>\n",
              "</table>\n",
              "</div>\n",
              "      <button class=\"colab-df-convert\" onclick=\"convertToInteractive('df-dd6dbd44-bba4-44ae-b37e-61547b260e9b')\"\n",
              "              title=\"Convert this dataframe to an interactive table.\"\n",
              "              style=\"display:none;\">\n",
              "        \n",
              "  <svg xmlns=\"http://www.w3.org/2000/svg\" height=\"24px\"viewBox=\"0 0 24 24\"\n",
              "       width=\"24px\">\n",
              "    <path d=\"M0 0h24v24H0V0z\" fill=\"none\"/>\n",
              "    <path d=\"M18.56 5.44l.94 2.06.94-2.06 2.06-.94-2.06-.94-.94-2.06-.94 2.06-2.06.94zm-11 1L8.5 8.5l.94-2.06 2.06-.94-2.06-.94L8.5 2.5l-.94 2.06-2.06.94zm10 10l.94 2.06.94-2.06 2.06-.94-2.06-.94-.94-2.06-.94 2.06-2.06.94z\"/><path d=\"M17.41 7.96l-1.37-1.37c-.4-.4-.92-.59-1.43-.59-.52 0-1.04.2-1.43.59L10.3 9.45l-7.72 7.72c-.78.78-.78 2.05 0 2.83L4 21.41c.39.39.9.59 1.41.59.51 0 1.02-.2 1.41-.59l7.78-7.78 2.81-2.81c.8-.78.8-2.07 0-2.86zM5.41 20L4 18.59l7.72-7.72 1.47 1.35L5.41 20z\"/>\n",
              "  </svg>\n",
              "      </button>\n",
              "      \n",
              "  <style>\n",
              "    .colab-df-container {\n",
              "      display:flex;\n",
              "      flex-wrap:wrap;\n",
              "      gap: 12px;\n",
              "    }\n",
              "\n",
              "    .colab-df-convert {\n",
              "      background-color: #E8F0FE;\n",
              "      border: none;\n",
              "      border-radius: 50%;\n",
              "      cursor: pointer;\n",
              "      display: none;\n",
              "      fill: #1967D2;\n",
              "      height: 32px;\n",
              "      padding: 0 0 0 0;\n",
              "      width: 32px;\n",
              "    }\n",
              "\n",
              "    .colab-df-convert:hover {\n",
              "      background-color: #E2EBFA;\n",
              "      box-shadow: 0px 1px 2px rgba(60, 64, 67, 0.3), 0px 1px 3px 1px rgba(60, 64, 67, 0.15);\n",
              "      fill: #174EA6;\n",
              "    }\n",
              "\n",
              "    [theme=dark] .colab-df-convert {\n",
              "      background-color: #3B4455;\n",
              "      fill: #D2E3FC;\n",
              "    }\n",
              "\n",
              "    [theme=dark] .colab-df-convert:hover {\n",
              "      background-color: #434B5C;\n",
              "      box-shadow: 0px 1px 3px 1px rgba(0, 0, 0, 0.15);\n",
              "      filter: drop-shadow(0px 1px 2px rgba(0, 0, 0, 0.3));\n",
              "      fill: #FFFFFF;\n",
              "    }\n",
              "  </style>\n",
              "\n",
              "      <script>\n",
              "        const buttonEl =\n",
              "          document.querySelector('#df-dd6dbd44-bba4-44ae-b37e-61547b260e9b button.colab-df-convert');\n",
              "        buttonEl.style.display =\n",
              "          google.colab.kernel.accessAllowed ? 'block' : 'none';\n",
              "\n",
              "        async function convertToInteractive(key) {\n",
              "          const element = document.querySelector('#df-dd6dbd44-bba4-44ae-b37e-61547b260e9b');\n",
              "          const dataTable =\n",
              "            await google.colab.kernel.invokeFunction('convertToInteractive',\n",
              "                                                     [key], {});\n",
              "          if (!dataTable) return;\n",
              "\n",
              "          const docLinkHtml = 'Like what you see? Visit the ' +\n",
              "            '<a target=\"_blank\" href=https://colab.research.google.com/notebooks/data_table.ipynb>data table notebook</a>'\n",
              "            + ' to learn more about interactive tables.';\n",
              "          element.innerHTML = '';\n",
              "          dataTable['output_type'] = 'display_data';\n",
              "          await google.colab.output.renderOutput(dataTable, element);\n",
              "          const docLink = document.createElement('div');\n",
              "          docLink.innerHTML = docLinkHtml;\n",
              "          element.appendChild(docLink);\n",
              "        }\n",
              "      </script>\n",
              "    </div>\n",
              "  </div>\n",
              "  "
            ]
          },
          "metadata": {},
          "execution_count": 28
        }
      ]
    },
    {
      "cell_type": "markdown",
      "source": [
        "The label is \"PRICE\" of the housing pricing. We will remove them from each dataset split (train, test, validate) and save them into new variables.\n",
        "Note: we maintain the order of the labels and data from now on to make sure each example/row is associated with the right label."
      ],
      "metadata": {
        "id": "zfe6o50aNk7t"
      }
    },
    {
      "cell_type": "code",
      "source": [
        "train_labels = train_dataset.pop('PRICE')\n",
        "test_labels = test_dataset.pop('PRICE')\n",
        "valid_labels = valid_dataset.pop('PRICE')"
      ],
      "metadata": {
        "id": "qQCfOxxUNM2Z"
      },
      "execution_count": null,
      "outputs": []
    },
    {
      "cell_type": "markdown",
      "source": [
        "Data Normalization/Scaling\n",
        "Subtract the mean of the training data and divide by the standard deviation of the training data. "
      ],
      "metadata": {
        "id": "zJOlF8LDP0OL"
      }
    },
    {
      "cell_type": "code",
      "source": [
        "# define a function to normalize the data set.\n",
        "def norm(x):\n",
        "    return (x - train_stats['mean']) / train_stats['std']\n",
        "normed_train_data = norm(train_dataset)\n",
        "normed_test_data = norm(test_dataset)\n",
        "normed_valid_dataset = norm(valid_dataset)"
      ],
      "metadata": {
        "id": "XLCEcqayPvtw"
      },
      "execution_count": null,
      "outputs": []
    },
    {
      "cell_type": "code",
      "source": [
        "print(r'Train/Test/Validate splits: ')\n",
        "print(f'Train    : {normed_train_data.shape} ')\n",
        "print(f'Test     : {normed_test_data.shape} ')\n",
        "print(f'Validate : {normed_valid_dataset.shape} ')\n",
        "\n",
        "print(r'Train/Test/Validate labels: ')\n",
        "print(f'Train Labels : {train_labels.shape} ')\n",
        "print(f'Test Labels  : {test_labels.shape} ')\n",
        "print(f'Test Labels  : {valid_labels.shape} ')"
      ],
      "metadata": {
        "colab": {
          "base_uri": "https://localhost:8080/"
        },
        "id": "nsGlhJrmQOFK",
        "outputId": "8e749517-0a65-45a0-b9aa-dade305e5104"
      },
      "execution_count": null,
      "outputs": [
        {
          "output_type": "stream",
          "name": "stdout",
          "text": [
            "Train/Test/Validate splits: \n",
            "Train    : (7, 1) \n",
            "Test     : (2, 1) \n",
            "Validate : (3, 1) \n",
            "Train/Test/Validate labels: \n",
            "Train Labels : (7,) \n",
            "Test Labels  : (2,) \n",
            "Test Labels  : (3,) \n"
          ]
        }
      ]
    },
    {
      "cell_type": "code",
      "source": [
        "# show the data after normalized\n",
        "normed_train_data"
      ],
      "metadata": {
        "colab": {
          "base_uri": "https://localhost:8080/",
          "height": 269
        },
        "id": "iIAFhZz9WgON",
        "outputId": "0db0c5db-feb0-4ced-fde5-8150d437bc3f"
      },
      "execution_count": null,
      "outputs": [
        {
          "output_type": "execute_result",
          "data": {
            "text/plain": [
              "        SIZE\n",
              "6   0.694760\n",
              "12 -0.717509\n",
              "5   1.209004\n",
              "8  -0.025919\n",
              "1   0.907977\n",
              "7  -1.571159\n",
              "10 -0.497154"
            ],
            "text/html": [
              "\n",
              "  <div id=\"df-58c7d128-85b8-4125-b7fd-8b2830be1e68\">\n",
              "    <div class=\"colab-df-container\">\n",
              "      <div>\n",
              "<style scoped>\n",
              "    .dataframe tbody tr th:only-of-type {\n",
              "        vertical-align: middle;\n",
              "    }\n",
              "\n",
              "    .dataframe tbody tr th {\n",
              "        vertical-align: top;\n",
              "    }\n",
              "\n",
              "    .dataframe thead th {\n",
              "        text-align: right;\n",
              "    }\n",
              "</style>\n",
              "<table border=\"1\" class=\"dataframe\">\n",
              "  <thead>\n",
              "    <tr style=\"text-align: right;\">\n",
              "      <th></th>\n",
              "      <th>SIZE</th>\n",
              "    </tr>\n",
              "  </thead>\n",
              "  <tbody>\n",
              "    <tr>\n",
              "      <th>6</th>\n",
              "      <td>0.694760</td>\n",
              "    </tr>\n",
              "    <tr>\n",
              "      <th>12</th>\n",
              "      <td>-0.717509</td>\n",
              "    </tr>\n",
              "    <tr>\n",
              "      <th>5</th>\n",
              "      <td>1.209004</td>\n",
              "    </tr>\n",
              "    <tr>\n",
              "      <th>8</th>\n",
              "      <td>-0.025919</td>\n",
              "    </tr>\n",
              "    <tr>\n",
              "      <th>1</th>\n",
              "      <td>0.907977</td>\n",
              "    </tr>\n",
              "    <tr>\n",
              "      <th>7</th>\n",
              "      <td>-1.571159</td>\n",
              "    </tr>\n",
              "    <tr>\n",
              "      <th>10</th>\n",
              "      <td>-0.497154</td>\n",
              "    </tr>\n",
              "  </tbody>\n",
              "</table>\n",
              "</div>\n",
              "      <button class=\"colab-df-convert\" onclick=\"convertToInteractive('df-58c7d128-85b8-4125-b7fd-8b2830be1e68')\"\n",
              "              title=\"Convert this dataframe to an interactive table.\"\n",
              "              style=\"display:none;\">\n",
              "        \n",
              "  <svg xmlns=\"http://www.w3.org/2000/svg\" height=\"24px\"viewBox=\"0 0 24 24\"\n",
              "       width=\"24px\">\n",
              "    <path d=\"M0 0h24v24H0V0z\" fill=\"none\"/>\n",
              "    <path d=\"M18.56 5.44l.94 2.06.94-2.06 2.06-.94-2.06-.94-.94-2.06-.94 2.06-2.06.94zm-11 1L8.5 8.5l.94-2.06 2.06-.94-2.06-.94L8.5 2.5l-.94 2.06-2.06.94zm10 10l.94 2.06.94-2.06 2.06-.94-2.06-.94-.94-2.06-.94 2.06-2.06.94z\"/><path d=\"M17.41 7.96l-1.37-1.37c-.4-.4-.92-.59-1.43-.59-.52 0-1.04.2-1.43.59L10.3 9.45l-7.72 7.72c-.78.78-.78 2.05 0 2.83L4 21.41c.39.39.9.59 1.41.59.51 0 1.02-.2 1.41-.59l7.78-7.78 2.81-2.81c.8-.78.8-2.07 0-2.86zM5.41 20L4 18.59l7.72-7.72 1.47 1.35L5.41 20z\"/>\n",
              "  </svg>\n",
              "      </button>\n",
              "      \n",
              "  <style>\n",
              "    .colab-df-container {\n",
              "      display:flex;\n",
              "      flex-wrap:wrap;\n",
              "      gap: 12px;\n",
              "    }\n",
              "\n",
              "    .colab-df-convert {\n",
              "      background-color: #E8F0FE;\n",
              "      border: none;\n",
              "      border-radius: 50%;\n",
              "      cursor: pointer;\n",
              "      display: none;\n",
              "      fill: #1967D2;\n",
              "      height: 32px;\n",
              "      padding: 0 0 0 0;\n",
              "      width: 32px;\n",
              "    }\n",
              "\n",
              "    .colab-df-convert:hover {\n",
              "      background-color: #E2EBFA;\n",
              "      box-shadow: 0px 1px 2px rgba(60, 64, 67, 0.3), 0px 1px 3px 1px rgba(60, 64, 67, 0.15);\n",
              "      fill: #174EA6;\n",
              "    }\n",
              "\n",
              "    [theme=dark] .colab-df-convert {\n",
              "      background-color: #3B4455;\n",
              "      fill: #D2E3FC;\n",
              "    }\n",
              "\n",
              "    [theme=dark] .colab-df-convert:hover {\n",
              "      background-color: #434B5C;\n",
              "      box-shadow: 0px 1px 3px 1px rgba(0, 0, 0, 0.15);\n",
              "      filter: drop-shadow(0px 1px 2px rgba(0, 0, 0, 0.3));\n",
              "      fill: #FFFFFF;\n",
              "    }\n",
              "  </style>\n",
              "\n",
              "      <script>\n",
              "        const buttonEl =\n",
              "          document.querySelector('#df-58c7d128-85b8-4125-b7fd-8b2830be1e68 button.colab-df-convert');\n",
              "        buttonEl.style.display =\n",
              "          google.colab.kernel.accessAllowed ? 'block' : 'none';\n",
              "\n",
              "        async function convertToInteractive(key) {\n",
              "          const element = document.querySelector('#df-58c7d128-85b8-4125-b7fd-8b2830be1e68');\n",
              "          const dataTable =\n",
              "            await google.colab.kernel.invokeFunction('convertToInteractive',\n",
              "                                                     [key], {});\n",
              "          if (!dataTable) return;\n",
              "\n",
              "          const docLinkHtml = 'Like what you see? Visit the ' +\n",
              "            '<a target=\"_blank\" href=https://colab.research.google.com/notebooks/data_table.ipynb>data table notebook</a>'\n",
              "            + ' to learn more about interactive tables.';\n",
              "          element.innerHTML = '';\n",
              "          dataTable['output_type'] = 'display_data';\n",
              "          await google.colab.output.renderOutput(dataTable, element);\n",
              "          const docLink = document.createElement('div');\n",
              "          docLink.innerHTML = docLinkHtml;\n",
              "          element.appendChild(docLink);\n",
              "        }\n",
              "      </script>\n",
              "    </div>\n",
              "  </div>\n",
              "  "
            ]
          },
          "metadata": {},
          "execution_count": 32
        }
      ]
    },
    {
      "cell_type": "markdown",
      "source": [
        "Build a Neural Network Model"
      ],
      "metadata": {
        "id": "-KJg0g2eXAgD"
      }
    },
    {
      "cell_type": "code",
      "source": [
        "# We decalred a function for creating a model.\n",
        "def build_model1_two_hidden_layers():\n",
        "    # Keras model object created from Sequential class. This will be the container that contains all layers.\n",
        "    model = Sequential()\n",
        "\n",
        "    # The model so far is empty. It can be constructed by adding layers and compilation.\n",
        "    # This Keras model with multiple hidden layers.\n",
        "    \n",
        "    # Input Layer with 2 Neurons\n",
        "    model.add(Dense(2, input_shape = (normed_train_data.shape[1],)))    # Input layer => input_shape must be explicitly designated\n",
        "\n",
        "    \n",
        "    model.add(Dense(3,Activation('tanh')))                         # Hidden layer 1 => only output dimension should be designated (output dimension = # of Neurons = 3)\n",
        "    \n",
        "    \n",
        "    model.add(Dense(4, Activation('tanh')))                         # Hidden layer 2 => only output dimension should be designated (output dimension = # of Neurons = 4)\n",
        "    \n",
        "    \n",
        "    model.add(Dense(1))                          # Output layer => output dimension = 1 since it is a regression problem\n",
        "    \n",
        "    learning_rate = 0.001\n",
        "    optimizer = optimizers.RMSprop(learning_rate)\n",
        "    model.compile(loss='mse',\n",
        "                optimizer=optimizer,\n",
        "                metrics=['mae', 'mse', 'mape']) # for regression problems, mean squared error (MSE) is often employed\n",
        "    \n",
        "    return model"
      ],
      "metadata": {
        "id": "NDfp0B_LW6lM"
      },
      "execution_count": null,
      "outputs": []
    },
    {
      "cell_type": "code",
      "source": [
        "model = build_model1_two_hidden_layers()\n",
        "print('Here is a summary of this model: ')\n",
        "model.summary()"
      ],
      "metadata": {
        "colab": {
          "base_uri": "https://localhost:8080/"
        },
        "id": "hEuMb14AXpuQ",
        "outputId": "01117090-0a91-458d-d8d2-2d7bae074c66"
      },
      "execution_count": null,
      "outputs": [
        {
          "output_type": "stream",
          "name": "stdout",
          "text": [
            "Here is a summary of this model: \n",
            "Model: \"sequential\"\n",
            "_________________________________________________________________\n",
            " Layer (type)                Output Shape              Param #   \n",
            "=================================================================\n",
            " dense (Dense)               (None, 2)                 4         \n",
            "                                                                 \n",
            " dense_1 (Dense)             (None, 3)                 9         \n",
            "                                                                 \n",
            " dense_2 (Dense)             (None, 4)                 16        \n",
            "                                                                 \n",
            " dense_3 (Dense)             (None, 1)                 5         \n",
            "                                                                 \n",
            "=================================================================\n",
            "Total params: 34\n",
            "Trainable params: 34\n",
            "Non-trainable params: 0\n",
            "_________________________________________________________________\n"
          ]
        }
      ]
    },
    {
      "cell_type": "code",
      "source": [
        "# Test the model before training (this will use the initial weights.) which in fact will generate random values.\n",
        "example_batch = normed_train_data[:3] # take the first 3 data points from the training data.\n",
        "#example_result = tf.convert_to_tensor(example_batch, dtype=tf.int64) \n",
        "example_result = model.predict(example_batch)\n",
        "example_result"
      ],
      "metadata": {
        "colab": {
          "base_uri": "https://localhost:8080/"
        },
        "id": "GYq8wSHMbQpn",
        "outputId": "3097a136-58fa-40f5-8b86-d67a1f52bc97"
      },
      "execution_count": null,
      "outputs": [
        {
          "output_type": "execute_result",
          "data": {
            "text/plain": [
              "array([[ 0.46616495],\n",
              "       [-0.47710803],\n",
              "       [ 0.6472541 ]], dtype=float32)"
            ]
          },
          "metadata": {},
          "execution_count": 35
        }
      ]
    },
    {
      "cell_type": "markdown",
      "source": [
        "Save checkpoints during training"
      ],
      "metadata": {
        "id": "BA125zVr8Ayw"
      }
    },
    {
      "cell_type": "code",
      "source": [
        "checkpoint_path = r\".\\models\\house_prediction.ckpt\"\n",
        "\n",
        "# Create a callback that saves the model's weights\n",
        "ckpt_callback = tf.keras.callbacks.ModelCheckpoint(filepath=checkpoint_path,\n",
        "                                                 monitor='val_loss', # or val_accuracy if you have it.\n",
        "                                                 save_best_only=True, # Default false. If you don't change the file name then the output will be overritten at each step and only the last model will be saved.\n",
        "                                                 save_weights_only=True, # True => model.save_weights (weights and no structure, you need JSON file for structure), False => model.save (saves weights & structure)\n",
        "                                                 verbose=0,\n",
        "                                                  )\n"
      ],
      "metadata": {
        "id": "80kOD9P778Ex"
      },
      "execution_count": null,
      "outputs": []
    },
    {
      "cell_type": "markdown",
      "source": [
        "Training the model we built above."
      ],
      "metadata": {
        "id": "nUe1_i2p8D9D"
      }
    },
    {
      "cell_type": "code",
      "source": [
        "\n",
        "EPOCHS = 10\n",
        "batch_size = 2 \n",
        "\n",
        "model = build_model1_two_hidden_layers()\n",
        "print('Here is a summary of this model: ')\n",
        "model.summary()\n",
        "\n",
        "\n",
        "with tf.device('/CPU:0'): # it can be with '/CPU:0'\n",
        "# with tf.device('/GPU:0'): # comment the previous line and uncomment this line to train with a GPU, if available.\n",
        "    history = model.fit(\n",
        "        normed_train_data, \n",
        "        train_labels,\n",
        "        batch_size = batch_size,\n",
        "        epochs=EPOCHS, \n",
        "        verbose=0,\n",
        "        shuffle=True,\n",
        "        steps_per_epoch = int(normed_train_data.shape[0] / batch_size) ,\n",
        "        validation_data = (normed_valid_dataset, valid_labels),\n",
        "        \n",
        "    )"
      ],
      "metadata": {
        "colab": {
          "base_uri": "https://localhost:8080/"
        },
        "id": "rFW0_rur7952",
        "outputId": "50dae1a1-73f8-4482-d119-cbea0f5f1c87"
      },
      "execution_count": null,
      "outputs": [
        {
          "output_type": "stream",
          "name": "stdout",
          "text": [
            "Here is a summary of this model: \n",
            "Model: \"sequential_1\"\n",
            "_________________________________________________________________\n",
            " Layer (type)                Output Shape              Param #   \n",
            "=================================================================\n",
            " dense_4 (Dense)             (None, 2)                 4         \n",
            "                                                                 \n",
            " dense_5 (Dense)             (None, 3)                 9         \n",
            "                                                                 \n",
            " dense_6 (Dense)             (None, 4)                 16        \n",
            "                                                                 \n",
            " dense_7 (Dense)             (None, 1)                 5         \n",
            "                                                                 \n",
            "=================================================================\n",
            "Total params: 34\n",
            "Trainable params: 34\n",
            "Non-trainable params: 0\n",
            "_________________________________________________________________\n"
          ]
        }
      ]
    },
    {
      "cell_type": "code",
      "source": [
        "print('Summary of the results after each epoch: ')\n",
        "hist = pd.DataFrame(history.history)\n",
        "hist['epoch'] = history.epoch\n",
        "hist"
      ],
      "metadata": {
        "colab": {
          "base_uri": "https://localhost:8080/",
          "height": 380
        },
        "id": "maLQbY_M-LKO",
        "outputId": "e019c0c2-acea-461c-9417-2c10be28fc62"
      },
      "execution_count": null,
      "outputs": [
        {
          "output_type": "stream",
          "name": "stdout",
          "text": [
            "Summary of the results after each epoch: \n"
          ]
        },
        {
          "output_type": "execute_result",
          "data": {
            "text/plain": [
              "          loss        mae          mse        mape     val_loss    val_mae  \\\n",
              "0  4895.143066  69.351631  4895.143066   99.977058  5257.671387  72.048820   \n",
              "1  4728.967773  68.218887  4728.967773  100.044083  5256.539062  72.041107   \n",
              "2  4719.761719  68.140526  4719.761719   99.950066  5254.720703  72.028503   \n",
              "3  4605.068359  67.285278  4605.068359   99.954063  5253.614746  72.020889   \n",
              "4  4888.784668  69.306236  4888.784668   99.911186  5252.039062  72.009964   \n",
              "5  4810.540527  68.938583  4810.540527   99.949707  5250.994629  72.002792   \n",
              "6  4419.793945  65.672638  4419.793945   99.907043  5249.396973  71.991646   \n",
              "7  4808.305664  68.922775  4808.305664   99.927071  5248.373047  71.984627   \n",
              "8  4474.236328  66.375732  4474.236328   99.917290  5247.213867  71.976616   \n",
              "9  4935.267090  69.741989  4935.267090   99.871155  5245.604980  71.965446   \n",
              "\n",
              "       val_mse   val_mape  epoch  \n",
              "0  5257.671387  99.789268      0  \n",
              "1  5256.539062  99.778679      1  \n",
              "2  5254.720703  99.761024      2  \n",
              "3  5253.614746  99.750450      3  \n",
              "4  5252.039062  99.735130      4  \n",
              "5  5250.994629  99.725197      5  \n",
              "6  5249.396973  99.709480      6  \n",
              "7  5248.373047  99.699768      7  \n",
              "8  5247.213867  99.688599      8  \n",
              "9  5245.604980  99.672935      9  "
            ],
            "text/html": [
              "\n",
              "  <div id=\"df-f21a6cbf-ba53-4717-878f-4a1dda07705d\">\n",
              "    <div class=\"colab-df-container\">\n",
              "      <div>\n",
              "<style scoped>\n",
              "    .dataframe tbody tr th:only-of-type {\n",
              "        vertical-align: middle;\n",
              "    }\n",
              "\n",
              "    .dataframe tbody tr th {\n",
              "        vertical-align: top;\n",
              "    }\n",
              "\n",
              "    .dataframe thead th {\n",
              "        text-align: right;\n",
              "    }\n",
              "</style>\n",
              "<table border=\"1\" class=\"dataframe\">\n",
              "  <thead>\n",
              "    <tr style=\"text-align: right;\">\n",
              "      <th></th>\n",
              "      <th>loss</th>\n",
              "      <th>mae</th>\n",
              "      <th>mse</th>\n",
              "      <th>mape</th>\n",
              "      <th>val_loss</th>\n",
              "      <th>val_mae</th>\n",
              "      <th>val_mse</th>\n",
              "      <th>val_mape</th>\n",
              "      <th>epoch</th>\n",
              "    </tr>\n",
              "  </thead>\n",
              "  <tbody>\n",
              "    <tr>\n",
              "      <th>0</th>\n",
              "      <td>4895.143066</td>\n",
              "      <td>69.351631</td>\n",
              "      <td>4895.143066</td>\n",
              "      <td>99.977058</td>\n",
              "      <td>5257.671387</td>\n",
              "      <td>72.048820</td>\n",
              "      <td>5257.671387</td>\n",
              "      <td>99.789268</td>\n",
              "      <td>0</td>\n",
              "    </tr>\n",
              "    <tr>\n",
              "      <th>1</th>\n",
              "      <td>4728.967773</td>\n",
              "      <td>68.218887</td>\n",
              "      <td>4728.967773</td>\n",
              "      <td>100.044083</td>\n",
              "      <td>5256.539062</td>\n",
              "      <td>72.041107</td>\n",
              "      <td>5256.539062</td>\n",
              "      <td>99.778679</td>\n",
              "      <td>1</td>\n",
              "    </tr>\n",
              "    <tr>\n",
              "      <th>2</th>\n",
              "      <td>4719.761719</td>\n",
              "      <td>68.140526</td>\n",
              "      <td>4719.761719</td>\n",
              "      <td>99.950066</td>\n",
              "      <td>5254.720703</td>\n",
              "      <td>72.028503</td>\n",
              "      <td>5254.720703</td>\n",
              "      <td>99.761024</td>\n",
              "      <td>2</td>\n",
              "    </tr>\n",
              "    <tr>\n",
              "      <th>3</th>\n",
              "      <td>4605.068359</td>\n",
              "      <td>67.285278</td>\n",
              "      <td>4605.068359</td>\n",
              "      <td>99.954063</td>\n",
              "      <td>5253.614746</td>\n",
              "      <td>72.020889</td>\n",
              "      <td>5253.614746</td>\n",
              "      <td>99.750450</td>\n",
              "      <td>3</td>\n",
              "    </tr>\n",
              "    <tr>\n",
              "      <th>4</th>\n",
              "      <td>4888.784668</td>\n",
              "      <td>69.306236</td>\n",
              "      <td>4888.784668</td>\n",
              "      <td>99.911186</td>\n",
              "      <td>5252.039062</td>\n",
              "      <td>72.009964</td>\n",
              "      <td>5252.039062</td>\n",
              "      <td>99.735130</td>\n",
              "      <td>4</td>\n",
              "    </tr>\n",
              "    <tr>\n",
              "      <th>5</th>\n",
              "      <td>4810.540527</td>\n",
              "      <td>68.938583</td>\n",
              "      <td>4810.540527</td>\n",
              "      <td>99.949707</td>\n",
              "      <td>5250.994629</td>\n",
              "      <td>72.002792</td>\n",
              "      <td>5250.994629</td>\n",
              "      <td>99.725197</td>\n",
              "      <td>5</td>\n",
              "    </tr>\n",
              "    <tr>\n",
              "      <th>6</th>\n",
              "      <td>4419.793945</td>\n",
              "      <td>65.672638</td>\n",
              "      <td>4419.793945</td>\n",
              "      <td>99.907043</td>\n",
              "      <td>5249.396973</td>\n",
              "      <td>71.991646</td>\n",
              "      <td>5249.396973</td>\n",
              "      <td>99.709480</td>\n",
              "      <td>6</td>\n",
              "    </tr>\n",
              "    <tr>\n",
              "      <th>7</th>\n",
              "      <td>4808.305664</td>\n",
              "      <td>68.922775</td>\n",
              "      <td>4808.305664</td>\n",
              "      <td>99.927071</td>\n",
              "      <td>5248.373047</td>\n",
              "      <td>71.984627</td>\n",
              "      <td>5248.373047</td>\n",
              "      <td>99.699768</td>\n",
              "      <td>7</td>\n",
              "    </tr>\n",
              "    <tr>\n",
              "      <th>8</th>\n",
              "      <td>4474.236328</td>\n",
              "      <td>66.375732</td>\n",
              "      <td>4474.236328</td>\n",
              "      <td>99.917290</td>\n",
              "      <td>5247.213867</td>\n",
              "      <td>71.976616</td>\n",
              "      <td>5247.213867</td>\n",
              "      <td>99.688599</td>\n",
              "      <td>8</td>\n",
              "    </tr>\n",
              "    <tr>\n",
              "      <th>9</th>\n",
              "      <td>4935.267090</td>\n",
              "      <td>69.741989</td>\n",
              "      <td>4935.267090</td>\n",
              "      <td>99.871155</td>\n",
              "      <td>5245.604980</td>\n",
              "      <td>71.965446</td>\n",
              "      <td>5245.604980</td>\n",
              "      <td>99.672935</td>\n",
              "      <td>9</td>\n",
              "    </tr>\n",
              "  </tbody>\n",
              "</table>\n",
              "</div>\n",
              "      <button class=\"colab-df-convert\" onclick=\"convertToInteractive('df-f21a6cbf-ba53-4717-878f-4a1dda07705d')\"\n",
              "              title=\"Convert this dataframe to an interactive table.\"\n",
              "              style=\"display:none;\">\n",
              "        \n",
              "  <svg xmlns=\"http://www.w3.org/2000/svg\" height=\"24px\"viewBox=\"0 0 24 24\"\n",
              "       width=\"24px\">\n",
              "    <path d=\"M0 0h24v24H0V0z\" fill=\"none\"/>\n",
              "    <path d=\"M18.56 5.44l.94 2.06.94-2.06 2.06-.94-2.06-.94-.94-2.06-.94 2.06-2.06.94zm-11 1L8.5 8.5l.94-2.06 2.06-.94-2.06-.94L8.5 2.5l-.94 2.06-2.06.94zm10 10l.94 2.06.94-2.06 2.06-.94-2.06-.94-.94-2.06-.94 2.06-2.06.94z\"/><path d=\"M17.41 7.96l-1.37-1.37c-.4-.4-.92-.59-1.43-.59-.52 0-1.04.2-1.43.59L10.3 9.45l-7.72 7.72c-.78.78-.78 2.05 0 2.83L4 21.41c.39.39.9.59 1.41.59.51 0 1.02-.2 1.41-.59l7.78-7.78 2.81-2.81c.8-.78.8-2.07 0-2.86zM5.41 20L4 18.59l7.72-7.72 1.47 1.35L5.41 20z\"/>\n",
              "  </svg>\n",
              "      </button>\n",
              "      \n",
              "  <style>\n",
              "    .colab-df-container {\n",
              "      display:flex;\n",
              "      flex-wrap:wrap;\n",
              "      gap: 12px;\n",
              "    }\n",
              "\n",
              "    .colab-df-convert {\n",
              "      background-color: #E8F0FE;\n",
              "      border: none;\n",
              "      border-radius: 50%;\n",
              "      cursor: pointer;\n",
              "      display: none;\n",
              "      fill: #1967D2;\n",
              "      height: 32px;\n",
              "      padding: 0 0 0 0;\n",
              "      width: 32px;\n",
              "    }\n",
              "\n",
              "    .colab-df-convert:hover {\n",
              "      background-color: #E2EBFA;\n",
              "      box-shadow: 0px 1px 2px rgba(60, 64, 67, 0.3), 0px 1px 3px 1px rgba(60, 64, 67, 0.15);\n",
              "      fill: #174EA6;\n",
              "    }\n",
              "\n",
              "    [theme=dark] .colab-df-convert {\n",
              "      background-color: #3B4455;\n",
              "      fill: #D2E3FC;\n",
              "    }\n",
              "\n",
              "    [theme=dark] .colab-df-convert:hover {\n",
              "      background-color: #434B5C;\n",
              "      box-shadow: 0px 1px 3px 1px rgba(0, 0, 0, 0.15);\n",
              "      filter: drop-shadow(0px 1px 2px rgba(0, 0, 0, 0.3));\n",
              "      fill: #FFFFFF;\n",
              "    }\n",
              "  </style>\n",
              "\n",
              "      <script>\n",
              "        const buttonEl =\n",
              "          document.querySelector('#df-f21a6cbf-ba53-4717-878f-4a1dda07705d button.colab-df-convert');\n",
              "        buttonEl.style.display =\n",
              "          google.colab.kernel.accessAllowed ? 'block' : 'none';\n",
              "\n",
              "        async function convertToInteractive(key) {\n",
              "          const element = document.querySelector('#df-f21a6cbf-ba53-4717-878f-4a1dda07705d');\n",
              "          const dataTable =\n",
              "            await google.colab.kernel.invokeFunction('convertToInteractive',\n",
              "                                                     [key], {});\n",
              "          if (!dataTable) return;\n",
              "\n",
              "          const docLinkHtml = 'Like what you see? Visit the ' +\n",
              "            '<a target=\"_blank\" href=https://colab.research.google.com/notebooks/data_table.ipynb>data table notebook</a>'\n",
              "            + ' to learn more about interactive tables.';\n",
              "          element.innerHTML = '';\n",
              "          dataTable['output_type'] = 'display_data';\n",
              "          await google.colab.output.renderOutput(dataTable, element);\n",
              "          const docLink = document.createElement('div');\n",
              "          docLink.innerHTML = docLinkHtml;\n",
              "          element.appendChild(docLink);\n",
              "        }\n",
              "      </script>\n",
              "    </div>\n",
              "  </div>\n",
              "  "
            ]
          },
          "metadata": {},
          "execution_count": 38
        }
      ]
    },
    {
      "cell_type": "markdown",
      "source": [
        "See some of the model results"
      ],
      "metadata": {
        "id": "fwW30J9WCNoK"
      }
    },
    {
      "cell_type": "code",
      "source": [
        "# normed_train_data.pop('PRICE')\n",
        "# Test the model after training.\n",
        "example_batch = normed_train_data[:7]\n",
        "example_result = model.predict(example_batch)\n",
        "print('predicted values: ')\n",
        "example_result"
      ],
      "metadata": {
        "colab": {
          "base_uri": "https://localhost:8080/"
        },
        "id": "eN5p__X9CAV_",
        "outputId": "d0e811fd-03ff-4fbc-dbf2-4962ca529c45"
      },
      "execution_count": null,
      "outputs": [
        {
          "output_type": "stream",
          "name": "stdout",
          "text": [
            "predicted values: \n"
          ]
        },
        {
          "output_type": "execute_result",
          "data": {
            "text/plain": [
              "array([[ 0.23604156],\n",
              "       [-0.03342428],\n",
              "       [ 0.29047447],\n",
              "       [ 0.1055605 ],\n",
              "       [ 0.26255506],\n",
              "       [-0.13455947],\n",
              "       [ 0.00726667]], dtype=float32)"
            ]
          },
          "metadata": {},
          "execution_count": 39
        }
      ]
    },
    {
      "cell_type": "code",
      "source": [
        "print('The ground truth: ')\n",
        "train_labels[:7]"
      ],
      "metadata": {
        "id": "yUjjAfbQDYUg",
        "colab": {
          "base_uri": "https://localhost:8080/"
        },
        "outputId": "422b5262-42be-490d-816d-2ac430d9cbe6"
      },
      "execution_count": null,
      "outputs": [
        {
          "output_type": "stream",
          "name": "stdout",
          "text": [
            "The ground truth: \n"
          ]
        },
        {
          "output_type": "execute_result",
          "data": {
            "text/plain": [
              "6     79.641973\n",
              "12    62.008923\n",
              "5     78.211518\n",
              "8     75.331242\n",
              "1     68.777596\n",
              "7     59.171489\n",
              "10    55.165677\n",
              "Name: PRICE, dtype: float64"
            ]
          },
          "metadata": {},
          "execution_count": 40
        }
      ]
    }
  ]
}